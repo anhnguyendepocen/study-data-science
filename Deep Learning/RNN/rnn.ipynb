{
  "cells": [
    {
      "metadata": {
        "trusted": true
      },
      "cell_type": "code",
      "source": "# Recurrent Neural Network",
      "execution_count": 1,
      "outputs": []
    },
    {
      "metadata": {
        "trusted": true
      },
      "cell_type": "code",
      "source": "# Part 1 - Data processing\n\n#Importing the libraries\nimport numpy as np\nimport matplotlib.pyplot as plt\nimport pandas as pd",
      "execution_count": 2,
      "outputs": []
    },
    {
      "metadata": {
        "trusted": true
      },
      "cell_type": "code",
      "source": "#Importing the training set\ndataset_train = pd.read_csv('Google_Stock_Price_Train.csv')\ntraining_set = dataset_train.iloc[:,1:2].values",
      "execution_count": 3,
      "outputs": []
    },
    {
      "metadata": {
        "trusted": true
      },
      "cell_type": "code",
      "source": "#Feature Scaling\nfrom sklearn.preprocessing import MinMaxScaler\nsc = MinMaxScaler(feature_range = (0,1))\ntraining_set_scaled = sc.fit_transform(training_set)",
      "execution_count": 4,
      "outputs": []
    },
    {
      "metadata": {
        "trusted": true
      },
      "cell_type": "code",
      "source": "#Creating a data structure with 60 timesteps and 1 output\nX_train = []\ny_train = []\nfor i in range(60, 1258):\n    X_train.append(training_set_scaled[i-60:i, 0])\n    y_train.append(training_set_scaled[i, 0])\nX_train, y_train = np.array(X_train), np.array(y_train)",
      "execution_count": 5,
      "outputs": []
    },
    {
      "metadata": {
        "trusted": true
      },
      "cell_type": "code",
      "source": "#Reshaping\n\n#https://keras.io/layers/recurrent/#rnn\n#3D tensor with shape (batch_size, timesteps, input_dim)\nX_train = np.reshape(X_train, (X_train.shape[0], X_train.shape[1], 1))",
      "execution_count": 6,
      "outputs": []
    },
    {
      "metadata": {
        "trusted": true
      },
      "cell_type": "code",
      "source": "# Part 2 - Building the RNN\n\n# Importing the Keras libraries and packages\nfrom keras.models import Sequential\nfrom keras.layers import Dense\nfrom keras.layers import LSTM\nfrom keras.layers import Dropout\n\n#Initializing the RNN\nregressor = Sequential()",
      "execution_count": 7,
      "outputs": [
        {
          "output_type": "stream",
          "text": "/home/nbuser/anaconda3_420/lib/python3.5/site-packages/h5py/__init__.py:36: FutureWarning: Conversion of the second argument of issubdtype from `float` to `np.floating` is deprecated. In future, it will be treated as `np.float64 == np.dtype(float).type`.\n  from ._conv import register_converters as _register_converters\nUsing TensorFlow backend.\n",
          "name": "stderr"
        }
      ]
    },
    {
      "metadata": {
        "trusted": true
      },
      "cell_type": "code",
      "source": "#Adding the first LSTM layer and some Dropout regularisation\nregressor.add(LSTM(units = 50, return_sequences = True, input_shape = (X_train.shape[1], 1)))\nregressor.add(Dropout(0.2))",
      "execution_count": 8,
      "outputs": []
    },
    {
      "metadata": {
        "trusted": true
      },
      "cell_type": "code",
      "source": "#Adding the second LSTM layer and some Dropout regularisation\nregressor.add(LSTM(units = 50, return_sequences = True))\nregressor.add(Dropout(0.2))",
      "execution_count": 9,
      "outputs": []
    },
    {
      "metadata": {
        "trusted": true
      },
      "cell_type": "code",
      "source": "#Adding the third LSTM layer and some Dropout regularisation\nregressor.add(LSTM(units = 50, return_sequences = True))\nregressor.add(Dropout(0.2))",
      "execution_count": 10,
      "outputs": []
    },
    {
      "metadata": {
        "trusted": true
      },
      "cell_type": "code",
      "source": "#Adding the fourth LSTM layer and some Dropout regularisation\nregressor.add(LSTM(units = 50))\nregressor.add(Dropout(0.2))",
      "execution_count": 11,
      "outputs": []
    },
    {
      "metadata": {
        "trusted": true
      },
      "cell_type": "code",
      "source": "#Adding the output layer\nregressor.add(Dense(units = 1))",
      "execution_count": 12,
      "outputs": []
    },
    {
      "metadata": {
        "trusted": true
      },
      "cell_type": "code",
      "source": "#Compiling the RNN\nregressor.compile(optimizer = 'adam', loss='mean_squared_error')",
      "execution_count": 13,
      "outputs": []
    },
    {
      "metadata": {
        "trusted": true
      },
      "cell_type": "code",
      "source": "# Fitting the RNN to the Training set\nregressor.fit(X_train, y_train, epochs = 100, batch_size = 32)",
      "execution_count": 14,
      "outputs": [
        {
          "output_type": "stream",
          "text": "Epoch 1/100\n1198/1198 [==============================] - 78s - loss: 0.0489    \nEpoch 2/100\n1198/1198 [==============================] - 69s - loss: 0.0068    \nEpoch 3/100\n1198/1198 [==============================] - 73s - loss: 0.0049    \nEpoch 4/100\n1198/1198 [==============================] - 66s - loss: 0.0049    \nEpoch 5/100\n1198/1198 [==============================] - 63s - loss: 0.0048    \nEpoch 6/100\n1198/1198 [==============================] - 63s - loss: 0.0051    \nEpoch 7/100\n1198/1198 [==============================] - 61s - loss: 0.0043    \nEpoch 8/100\n1198/1198 [==============================] - 60s - loss: 0.0045    \nEpoch 9/100\n1198/1198 [==============================] - 58s - loss: 0.0052    \nEpoch 10/100\n1198/1198 [==============================] - 59s - loss: 0.0041    \nEpoch 11/100\n1198/1198 [==============================] - 62s - loss: 0.0039    \nEpoch 12/100\n1198/1198 [==============================] - 59s - loss: 0.0039    \nEpoch 13/100\n1198/1198 [==============================] - 60s - loss: 0.0038    \nEpoch 14/100\n1198/1198 [==============================] - 60s - loss: 0.0040    \nEpoch 15/100\n1198/1198 [==============================] - 60s - loss: 0.0036    \nEpoch 16/100\n1198/1198 [==============================] - 62s - loss: 0.0039    \nEpoch 17/100\n1198/1198 [==============================] - 61s - loss: 0.0039    \nEpoch 18/100\n1198/1198 [==============================] - 62s - loss: 0.0039    \nEpoch 19/100\n1198/1198 [==============================] - 68s - loss: 0.0038    \nEpoch 20/100\n1198/1198 [==============================] - 64s - loss: 0.0034    \nEpoch 21/100\n1198/1198 [==============================] - 61s - loss: 0.0043    \nEpoch 22/100\n1198/1198 [==============================] - 59s - loss: 0.0032    \nEpoch 23/100\n1198/1198 [==============================] - 61s - loss: 0.0032    \nEpoch 24/100\n1198/1198 [==============================] - 61s - loss: 0.0032    \nEpoch 25/100\n1198/1198 [==============================] - 69s - loss: 0.0029    \nEpoch 26/100\n1198/1198 [==============================] - 75s - loss: 0.0036    \nEpoch 27/100\n1198/1198 [==============================] - 63s - loss: 0.0033    \nEpoch 28/100\n1198/1198 [==============================] - 63s - loss: 0.0031    \nEpoch 29/100\n1198/1198 [==============================] - 66s - loss: 0.0029    \nEpoch 30/100\n1198/1198 [==============================] - 63s - loss: 0.0030    \nEpoch 31/100\n1198/1198 [==============================] - 61s - loss: 0.0028    \nEpoch 32/100\n1198/1198 [==============================] - 62s - loss: 0.0031    \nEpoch 33/100\n1198/1198 [==============================] - 62s - loss: 0.0029    \nEpoch 34/100\n1198/1198 [==============================] - 62s - loss: 0.0030    \nEpoch 35/100\n1198/1198 [==============================] - 62s - loss: 0.0030    \nEpoch 36/100\n1198/1198 [==============================] - 62s - loss: 0.0026    \nEpoch 37/100\n1198/1198 [==============================] - 64s - loss: 0.0026    \nEpoch 38/100\n1198/1198 [==============================] - 68s - loss: 0.0026    \nEpoch 39/100\n1198/1198 [==============================] - 68s - loss: 0.0029    \nEpoch 40/100\n1198/1198 [==============================] - 67s - loss: 0.0027    \nEpoch 41/100\n1198/1198 [==============================] - 67s - loss: 0.0025    \nEpoch 42/100\n1198/1198 [==============================] - 69s - loss: 0.0025    \nEpoch 43/100\n1198/1198 [==============================] - 73s - loss: 0.0027    \nEpoch 44/100\n1198/1198 [==============================] - 70s - loss: 0.0025    \nEpoch 45/100\n1198/1198 [==============================] - 69s - loss: 0.0024    \nEpoch 46/100\n1198/1198 [==============================] - 69s - loss: 0.0026    \nEpoch 47/100\n1198/1198 [==============================] - 68s - loss: 0.0023    \nEpoch 48/100\n1198/1198 [==============================] - 68s - loss: 0.0027    \nEpoch 49/100\n1198/1198 [==============================] - 66s - loss: 0.0023    \nEpoch 50/100\n1198/1198 [==============================] - 65s - loss: 0.0024    \nEpoch 51/100\n1198/1198 [==============================] - 66s - loss: 0.0023    \nEpoch 52/100\n1198/1198 [==============================] - 66s - loss: 0.0021    \nEpoch 53/100\n1198/1198 [==============================] - 67s - loss: 0.0021    \nEpoch 54/100\n1198/1198 [==============================] - 66s - loss: 0.0021    \nEpoch 55/100\n1198/1198 [==============================] - 65s - loss: 0.0022    \nEpoch 56/100\n1198/1198 [==============================] - 67s - loss: 0.0022    \nEpoch 57/100\n1198/1198 [==============================] - 66s - loss: 0.0021    \nEpoch 58/100\n1198/1198 [==============================] - 66s - loss: 0.0022    \nEpoch 59/100\n1198/1198 [==============================] - 65s - loss: 0.0020    \nEpoch 60/100\n1198/1198 [==============================] - 66s - loss: 0.0021    \nEpoch 61/100\n1198/1198 [==============================] - 70s - loss: 0.0019    \nEpoch 62/100\n1198/1198 [==============================] - 68s - loss: 0.0020    \nEpoch 63/100\n1198/1198 [==============================] - 66s - loss: 0.0018    \nEpoch 64/100\n1198/1198 [==============================] - 76s - loss: 0.0021    \nEpoch 65/100\n1198/1198 [==============================] - 78s - loss: 0.0021    \nEpoch 66/100\n1198/1198 [==============================] - 75s - loss: 0.0020    \nEpoch 67/100\n1198/1198 [==============================] - 77s - loss: 0.0021    \nEpoch 68/100\n1198/1198 [==============================] - 77s - loss: 0.0019    \nEpoch 69/100\n1198/1198 [==============================] - 76s - loss: 0.0019    \nEpoch 70/100\n1198/1198 [==============================] - 77s - loss: 0.0018    \nEpoch 71/100\n1198/1198 [==============================] - 82s - loss: 0.0016    \nEpoch 72/100\n1198/1198 [==============================] - 81s - loss: 0.0017    \nEpoch 73/100\n1198/1198 [==============================] - 87s - loss: 0.0018    \nEpoch 74/100\n1198/1198 [==============================] - 89s - loss: 0.0017    \nEpoch 75/100\n1198/1198 [==============================] - 85s - loss: 0.0017    \nEpoch 76/100\n1198/1198 [==============================] - 86s - loss: 0.0018    \nEpoch 77/100\n1198/1198 [==============================] - 85s - loss: 0.0015    \nEpoch 78/100\n1198/1198 [==============================] - 84s - loss: 0.0018    \nEpoch 79/100\n1198/1198 [==============================] - 82s - loss: 0.0019    \nEpoch 80/100\n1198/1198 [==============================] - 73s - loss: 0.0017    \nEpoch 81/100\n1198/1198 [==============================] - 75s - loss: 0.0017    \nEpoch 82/100\n1198/1198 [==============================] - 75s - loss: 0.0015    \nEpoch 83/100\n1198/1198 [==============================] - 73s - loss: 0.0016    \nEpoch 84/100\n1198/1198 [==============================] - 74s - loss: 0.0017    \nEpoch 85/100\n1198/1198 [==============================] - 73s - loss: 0.0014    \nEpoch 86/100\n1198/1198 [==============================] - 74s - loss: 0.0016    \nEpoch 87/100\n1198/1198 [==============================] - 74s - loss: 0.0016    \nEpoch 88/100\n1198/1198 [==============================] - 73s - loss: 0.0017    \nEpoch 89/100\n1198/1198 [==============================] - 73s - loss: 0.0016    \nEpoch 90/100\n1198/1198 [==============================] - 69s - loss: 0.0015    \nEpoch 91/100\n1198/1198 [==============================] - 72s - loss: 0.0015    \nEpoch 92/100\n1198/1198 [==============================] - 68s - loss: 0.0016    \nEpoch 93/100\n1198/1198 [==============================] - 69s - loss: 0.0014    \nEpoch 94/100\n1198/1198 [==============================] - 72s - loss: 0.0014    \nEpoch 95/100\n1198/1198 [==============================] - 70s - loss: 0.0014    \nEpoch 96/100\n1198/1198 [==============================] - 69s - loss: 0.0015    \nEpoch 97/100\n1198/1198 [==============================] - 69s - loss: 0.0015    \nEpoch 98/100\n1198/1198 [==============================] - 73s - loss: 0.0014    \nEpoch 99/100\n1198/1198 [==============================] - 71s - loss: 0.0013    \nEpoch 100/100\n1198/1198 [==============================] - 72s - loss: 0.0012    \n",
          "name": "stdout"
        },
        {
          "output_type": "execute_result",
          "execution_count": 14,
          "data": {
            "text/plain": "<keras.callbacks.History at 0x7fa132dcd3c8>"
          },
          "metadata": {}
        }
      ]
    },
    {
      "metadata": {
        "trusted": true
      },
      "cell_type": "code",
      "source": "regressor.save('rnn_model.h5')",
      "execution_count": 15,
      "outputs": []
    },
    {
      "metadata": {
        "trusted": true
      },
      "cell_type": "code",
      "source": "# Part 3 - Making the predictions and visualizing the results\n\n#Getting the real stock price of 2017\ndataset_test = pd.read_csv('Google_Stock_Price_Test.csv')\nreal_stock_price = dataset_test.iloc[:,1:2].values",
      "execution_count": 16,
      "outputs": []
    },
    {
      "metadata": {
        "trusted": true
      },
      "cell_type": "code",
      "source": "# Getting the predicted stock price of 2017\ndataset_total = pd.concat((dataset_train['Open'], dataset_test['Open']), axis = 0)\ninputs = dataset_total[len(dataset_total) - len(dataset_test) - 60:].values\ninputs = inputs.reshape(-1, 1)\ninputs = sc.transform(inputs)",
      "execution_count": 17,
      "outputs": []
    },
    {
      "metadata": {
        "trusted": true
      },
      "cell_type": "code",
      "source": "X_test = []\nfor i in range(60, 80):\n    X_test.append(inputs[i-60:i, 0])\nX_test = np.array(X_test)\nX_test = np.reshape(X_test, (X_test.shape[0], X_test.shape[1], 1))\npredicted_stock_price = regressor.predict(X_test)\npredicted_stock_price = sc.inverse_transform(predicted_stock_price)",
      "execution_count": 18,
      "outputs": []
    },
    {
      "metadata": {
        "trusted": true
      },
      "cell_type": "code",
      "source": "# Visualising the results\nplt.plot(real_stock_price, color = 'red', label = 'Real Google Stock Price')\nplt.plot(predicted_stock_price, color = 'blue', label = 'Predicted Google Stock Price')\nplt.title('Google Stock Price Prediction')\nplt.xlabel('Time')\nplt.ylabel('Price')\nplt.legend()\nplt.show()",
      "execution_count": 20,
      "outputs": [
        {
          "output_type": "display_data",
          "data": {
            "image/png": "[encoded data removed]",
            "text/plain": "<matplotlib.figure.Figure at 0x7fa10df9be80>"
          },
          "metadata": {}
        }
      ]
    },
    {
      "metadata": {
        "trusted": true
      },
      "cell_type": "code",
      "source": "",
      "execution_count": null,
      "outputs": []
    }
  ],
  "metadata": {
    "kernelspec": {
      "name": "python3",
      "display_name": "Python 3",
      "language": "python"
    },
    "language_info": {
      "mimetype": "text/x-python",
      "nbconvert_exporter": "python",
      "name": "python",
      "pygments_lexer": "ipython3",
      "version": "3.5.4",
      "file_extension": ".py",
      "codemirror_mode": {
        "version": 3,
        "name": "ipython"
      }
    }
  },
  "nbformat": 4,
  "nbformat_minor": 2
}