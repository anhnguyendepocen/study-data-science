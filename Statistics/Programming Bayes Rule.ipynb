{
 "cells": [
  {
   "cell_type": "markdown",
   "metadata": {},
   "source": [
    "Probability of 2 heads flipping the coin 2 times\n",
    "PT: Probabilidade de dar 2 caras lançando a moeda 2 vezes = p * p"
   ]
  },
  {
   "cell_type": "code",
   "execution_count": 8,
   "metadata": {},
   "outputs": [
    {
     "name": "stdout",
     "output_type": "stream",
     "text": [
      "0.25\n"
     ]
    }
   ],
   "source": [
    "def probability(p):\n",
    "    return p * p\n",
    "\n",
    "print(probability(0.5))"
   ]
  },
  {
   "cell_type": "markdown",
   "metadata": {},
   "source": [
    "2 coins and probability of head when: \n",
    "- p0 = probability of picking up the coin 1\n",
    "- p1 = probability of head the coin 1 \n",
    "- p2 = probability of head the coin 2\n",
    "\n",
    "PT:\n",
    "2 moedas e probablidade de dar cara quando:\n",
    "- p0 = probablidade de pegar a moeda 1\n",
    "- p1 = probabilidade de dar cara na moeda 1\n",
    "- p2 = probabilidade de dar cara na moeda 2"
   ]
  },
  {
   "cell_type": "code",
   "execution_count": 9,
   "metadata": {},
   "outputs": [
    {
     "name": "stdout",
     "output_type": "stream",
     "text": [
      "0.78\n"
     ]
    }
   ],
   "source": [
    "def f(p0,p1,p2):\n",
    "    return (p0 * p1) + ((1 - p0) * p2)\n",
    "    \n",
    "print(f(0.3, 0.5, 0.9))"
   ]
  },
  {
   "cell_type": "markdown",
   "metadata": {},
   "source": [
    "Calculate the probability of a positive result given that\n",
    "- p0=P(C)\n",
    "- p1=P(Positive|C)\n",
    "- p2=P(Negative|Not C)"
   ]
  },
  {
   "cell_type": "code",
   "execution_count": 10,
   "metadata": {},
   "outputs": [
    {
     "name": "stdout",
     "output_type": "stream",
     "text": [
      "0.26999999999999996\n"
     ]
    }
   ],
   "source": [
    "def f(p0,p1,p2):\n",
    "    return (p0 * p1) + ((1-p0) * (1 - p2))\n",
    "\n",
    "print (f(0.1, 0.9, 0.8))"
   ]
  },
  {
   "cell_type": "markdown",
   "metadata": {},
   "source": [
    "# Bayer Rules\n",
    "\n",
    "Calculate P(C|Positive) with info above:"
   ]
  },
  {
   "cell_type": "code",
   "execution_count": 11,
   "metadata": {},
   "outputs": [
    {
     "name": "stdout",
     "output_type": "stream",
     "text": [
      "0.3333333333333334\n"
     ]
    }
   ],
   "source": [
    "def f(p0,p1,p2):\n",
    "    p_c_pos = (p0 * p1)\n",
    "    p_nc_pos = ((1-p0) * (1 - p2))\n",
    "    normalize_p_pos = p_c_pos + p_nc_pos\n",
    "    return p_c_pos / normalize_p_pos\n",
    "\n",
    "print (f(0.1, 0.9, 0.8))"
   ]
  },
  {
   "cell_type": "markdown",
   "metadata": {},
   "source": [
    "Calculate P(C|Neg) with info above:\n",
    "- p0=P(C)\n",
    "- p1=P(Positive|C)\n",
    "- p2=P(Negative|Not C)"
   ]
  },
  {
   "cell_type": "code",
   "execution_count": 12,
   "metadata": {},
   "outputs": [
    {
     "name": "stdout",
     "output_type": "stream",
     "text": [
      "0.013698630136986297\n"
     ]
    }
   ],
   "source": [
    "def f(p0,p1,p2):\n",
    "    p_c_neg = p0 * (1 - p1)\n",
    "    p_nc_neg = (1-p0) * p2\n",
    "    normalize_p_neg = p_c_neg + p_nc_neg\n",
    "    return p_c_neg / normalize_p_neg\n",
    "\n",
    "print (f(0.1, 0.9, 0.8))"
   ]
  },
  {
   "cell_type": "code",
   "execution_count": null,
   "metadata": {},
   "outputs": [],
   "source": []
  }
 ],
 "metadata": {
  "kernelspec": {
   "display_name": "Python 3",
   "language": "python",
   "name": "python3"
  },
  "language_info": {
   "codemirror_mode": {
    "name": "ipython",
    "version": 3
   },
   "file_extension": ".py",
   "mimetype": "text/x-python",
   "name": "python",
   "nbconvert_exporter": "python",
   "pygments_lexer": "ipython3",
   "version": "3.5.2"
  }
 },
 "nbformat": 4,
 "nbformat_minor": 2
}
