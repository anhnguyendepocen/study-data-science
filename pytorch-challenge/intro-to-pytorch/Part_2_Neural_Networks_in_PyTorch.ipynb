{
  "nbformat": 4,
  "nbformat_minor": 0,
  "metadata": {
    "colab": {
      "name": "Part 2 - Neural Networks in PyTorch.ipynb",
      "version": "0.3.2",
      "provenance": [],
      "collapsed_sections": [],
      "toc_visible": true,
      "include_colab_link": true
    },
    "kernelspec": {
      "display_name": "Python 3",
      "language": "python",
      "name": "python3"
    }
  },
  "cells": [
    {
      "cell_type": "markdown",
      "metadata": {
        "id": "view-in-github",
        "colab_type": "text"
      },
      "source": [
        "<a href=\"https://colab.research.google.com/github/souzadriano/study-data-science/blob/master/pytorch-challenge/intro-to-pytorch/Part_2_Neural_Networks_in_PyTorch.ipynb\" target=\"_parent\"><img src=\"https://colab.research.google.com/assets/colab-badge.svg\" alt=\"Open In Colab\"/></a>"
      ]
    },
    {
      "metadata": {
        "id": "gOZp3-54QrM3",
        "colab_type": "text"
      },
      "cell_type": "markdown",
      "source": [
        "# Neural networks with PyTorch\n",
        "\n",
        "Deep learning networks tend to be massive with dozens or hundreds of layers, that's where the term \"deep\" comes from. You can build one of these deep networks using only weight matrices as we did in the previous notebook, but in general it's very cumbersome and difficult to implement. PyTorch has a nice module `nn` that provides a nice way to efficiently build large neural networks."
      ]
    },
    {
      "metadata": {
        "id": "q7-SXuonQxiD",
        "colab_type": "code",
        "colab": {}
      },
      "cell_type": "code",
      "source": [
        "# http://pytorch.org/\n",
        "from os.path import exists\n",
        "from wheel.pep425tags import get_abbr_impl, get_impl_ver, get_abi_tag\n",
        "platform = '{}{}-{}'.format(get_abbr_impl(), get_impl_ver(), get_abi_tag())\n",
        "cuda_output = !ldconfig -p|grep cudart.so|sed -e 's/.*\\.\\([0-9]*\\)\\.\\([0-9]*\\)$/cu\\1\\2/'\n",
        "accelerator = cuda_output[0] if exists('/dev/nvidia0') else 'cpu'\n",
        "\n",
        "!pip install -q http://download.pytorch.org/whl/{accelerator}/torch-0.4.1-{platform}-linux_x86_64.whl torchvision\n",
        "import torch"
      ],
      "execution_count": 0,
      "outputs": []
    },
    {
      "metadata": {
        "id": "CR7nQqxMTJC5",
        "colab_type": "code",
        "outputId": "9f8cf2ce-be73-47f4-8807-1e960314a212",
        "colab": {
          "base_uri": "https://localhost:8080/",
          "height": 34
        }
      },
      "cell_type": "code",
      "source": [
        "import urllib.request\n",
        "urllib.request.urlretrieve('https://raw.githubusercontent.com/udacity/deep-learning-v2-pytorch/master/intro-to-pytorch/helper.py', 'helper.py')"
      ],
      "execution_count": 0,
      "outputs": [
        {
          "output_type": "execute_result",
          "data": {
            "text/plain": [
              "('helper.py', <http.client.HTTPMessage at 0x7f5c6e398588>)"
            ]
          },
          "metadata": {
            "tags": []
          },
          "execution_count": 2
        }
      ]
    },
    {
      "metadata": {
        "id": "6TK8uzByQrM5",
        "colab_type": "code",
        "colab": {}
      },
      "cell_type": "code",
      "source": [
        "# Import necessary packages\n",
        "\n",
        "%matplotlib inline\n",
        "%config InlineBackend.figure_format = 'retina'\n",
        "\n",
        "import numpy as np\n",
        "import torch\n",
        "\n",
        "import helper\n",
        "\n",
        "import matplotlib.pyplot as plt"
      ],
      "execution_count": 0,
      "outputs": []
    },
    {
      "metadata": {
        "id": "VicRe9mDQrNA",
        "colab_type": "text"
      },
      "cell_type": "markdown",
      "source": [
        "\n",
        "Now we're going to build a larger network that can solve a (formerly) difficult problem, identifying text in an image. Here we'll use the MNIST dataset which consists of greyscale handwritten digits. Each image is 28x28 pixels, you can see a sample below\n",
        "\n",
        "<img src='assets/mnist.png'>\n",
        "\n",
        "Our goal is to build a neural network that can take one of these images and predict the digit in the image.\n",
        "\n",
        "First up, we need to get our dataset. This is provided through the `torchvision` package. The code below will download the MNIST dataset, then create training and test datasets for us. Don't worry too much about the details here, you'll learn more about this later."
      ]
    },
    {
      "metadata": {
        "id": "jcjUbrJcQrNB",
        "colab_type": "code",
        "colab": {}
      },
      "cell_type": "code",
      "source": [
        "### Run this cell\n",
        "\n",
        "from torchvision import datasets, transforms\n",
        "\n",
        "# Define a transform to normalize the data\n",
        "transform = transforms.Compose([transforms.ToTensor(),\n",
        "                              transforms.Normalize((0.5,), (0.5,)),\n",
        "                              ])\n",
        "\n",
        "# Download and load the training data\n",
        "trainset = datasets.MNIST('~/.pytorch/MNIST_data/', download=True, train=True, transform=transform)\n",
        "trainloader = torch.utils.data.DataLoader(trainset, batch_size=64, shuffle=True)"
      ],
      "execution_count": 0,
      "outputs": []
    },
    {
      "metadata": {
        "id": "aRW3O_QOQrNJ",
        "colab_type": "text"
      },
      "cell_type": "markdown",
      "source": [
        "We have the training data loaded into `trainloader` and we make that an iterator with `iter(trainloader)`. Later, we'll use this to loop through the dataset for training, like\n",
        "\n",
        "```python\n",
        "for image, label in trainloader:\n",
        "    ## do things with images and labels\n",
        "```\n",
        "\n",
        "You'll notice I created the `trainloader` with a batch size of 64, and `shuffle=True`. The batch size is the number of images we get in one iteration from the data loader and pass through our network, often called a *batch*. And `shuffle=True` tells it to shuffle the dataset every time we start going through the data loader again. But here I'm just grabbing the first batch so we can check out the data. We can see below that `images` is just a tensor with size `(64, 1, 28, 28)`. So, 64 images per batch, 1 color channel, and 28x28 images."
      ]
    },
    {
      "metadata": {
        "id": "fwlkwWq2QrNK",
        "colab_type": "code",
        "outputId": "607c5008-7dcf-4029-d019-75c9c72a2b40",
        "colab": {
          "base_uri": "https://localhost:8080/",
          "height": 68
        }
      },
      "cell_type": "code",
      "source": [
        "dataiter = iter(trainloader)\n",
        "images, labels = dataiter.next()\n",
        "print(type(images))\n",
        "print(images.shape)\n",
        "print(labels.shape)"
      ],
      "execution_count": 0,
      "outputs": [
        {
          "output_type": "stream",
          "text": [
            "<class 'torch.Tensor'>\n",
            "torch.Size([64, 1, 28, 28])\n",
            "torch.Size([64])\n"
          ],
          "name": "stdout"
        }
      ]
    },
    {
      "metadata": {
        "id": "TQuHYVB3QrNP",
        "colab_type": "text"
      },
      "cell_type": "markdown",
      "source": [
        "This is what one of the images looks like. "
      ]
    },
    {
      "metadata": {
        "id": "l4jQbU6rQrNR",
        "colab_type": "code",
        "outputId": "c21c33ec-0393-421c-f7f5-9eb3e4d5b04a",
        "colab": {
          "base_uri": "https://localhost:8080/",
          "height": 265
        }
      },
      "cell_type": "code",
      "source": [
        "plt.imshow(images[1].numpy().squeeze(), cmap='Greys_r');"
      ],
      "execution_count": 0,
      "outputs": [
        {
          "output_type": "display_data",
          "data": {
            "image/png": "[encoded data removed]",
            "text/plain": [
              "<matplotlib.figure.Figure at 0x7f5c77dc96d8>"
            ]
          },
          "metadata": {
            "tags": [],
            "image/png": {
              "width": 249,
              "height": 248
            }
          }
        }
      ]
    },
    {
      "metadata": {
        "id": "zbgYoBBXQrNV",
        "colab_type": "text"
      },
      "cell_type": "markdown",
      "source": [
        "First, let's try to build a simple network for this dataset using weight matrices and matrix multiplications. Then, we'll see how to do it using PyTorch's `nn` module which provides a much more convenient and powerful method for defining network architectures.\n",
        "\n",
        "The networks you've seen so far are called *fully-connected* or *dense* networks. Each unit in one layer is connected to each unit in the next layer. In fully-connected networks, the input to each layer must be a one-dimensional vector (which can be stacked into a 2D tensor as a batch of multiple examples). However, our images are 28x28 2D tensors, so we need to convert them into 1D vectors. Thinking about sizes, we need to convert the batch of images with shape `(64, 1, 28, 28)` to a have a shape of `(64, 784)`, 784 is 28 times 28. This is typically called *flattening*, we flattened the 2D images into 1D vectors.\n",
        "\n",
        "Previously you built a network with one output unit. Here we need 10 output units, one for each digit. We want our network to predict the digit shown in an image, so what we'll do is calculate probabilities that the image is of any one digit or class. This ends up being a discrete probability distribution over the classes (digits) that tells us the most likely class for the image. That means we need 10 output units for the 10 classes (digits). We'll see how to convert the network output into a probability distribution next.\n",
        "\n",
        "> **Exercise:** Flatten the batch of images `images`. Then build a multi-layer network with 784 input units, 256 hidden units, and 10 output units using random tensors for the weights and biases. For now, use a sigmoid activation for the hidden layer. Leave the output layer without an activation, we'll add one that gives us a probability distribution next."
      ]
    },
    {
      "metadata": {
        "id": "krEoF-nXQrNX",
        "colab_type": "code",
        "outputId": "724c16c4-15b1-455c-bbba-dcc40eeeb63c",
        "colab": {
          "base_uri": "https://localhost:8080/",
          "height": 2210
        }
      },
      "cell_type": "code",
      "source": [
        "## Your solution\n",
        "\n",
        "def activation(x):\n",
        "    \"\"\" Sigmoid activation function \n",
        "    \n",
        "        Arguments\n",
        "        ---------\n",
        "        x: torch.Tensor\n",
        "    \"\"\"\n",
        "    return 1/(1+torch.exp(-x))\n",
        "\n",
        "\n",
        "#features = images.view(64, 784)\n",
        "features = images.view(images.shape[0], -1) #images.shape[0] = 64 and -1 is the 768 that is a shortcut to unknow number of items\n",
        "\n",
        "# Define the size of each layer in our network\n",
        "n_input = features.shape[1]     # Number of input units, must match number of input features\n",
        "n_hidden = 256                   # Number of hidden units \n",
        "n_output = 10                    # Number of output units\n",
        "\n",
        "# Weights for inputs to hidden layer\n",
        "W1 = torch.randn(n_input, n_hidden)\n",
        "# Weights for hidden layer to output layer\n",
        "W2 = torch.randn(n_hidden, n_output)\n",
        "\n",
        "# and bias terms for hidden and output layers\n",
        "B1 = torch.randn(n_hidden)\n",
        "B2 = torch.randn(n_output)\n",
        "\n",
        "h = activation(torch.mm(features, W1) + B1)\n",
        "\n",
        "out = torch.mm(h, W2) + B2 # output of your network, should have shape (64,10)\n",
        "\n",
        "print(out.shape)\n",
        "print(out)"
      ],
      "execution_count": 0,
      "outputs": [
        {
          "output_type": "stream",
          "text": [
            "torch.Size([64, 10])\n",
            "tensor([[  7.8815,  11.3138,  -5.0416,  -6.0803,   5.9009,  11.2816, -27.3928,\n",
            "          18.2545,   9.4312,  -8.2789],\n",
            "        [ -1.8589,  -5.8050,  -1.7620,  -7.8626,   9.6071,  13.4803, -23.0369,\n",
            "          24.3445,   2.9396,  -8.0259],\n",
            "        [  5.2972,   4.2670,  -0.2591, -18.2876,   5.8124,   7.2184, -34.2409,\n",
            "          13.0500,  -1.7846,  -1.4627],\n",
            "        [ -4.4162,  -3.7319,  -3.0164,  -5.3703,  -3.3091,  10.5523, -17.5214,\n",
            "          31.3461,   6.9897,  -2.9735],\n",
            "        [ -0.4780,  -6.5600,   1.3002,   1.6934,   2.8715,  14.8031, -23.4758,\n",
            "          28.3340,   2.6687, -12.7523],\n",
            "        [  0.4534,  -2.6060,  -3.0062,  -5.8082,   2.0862,  12.6243, -19.5659,\n",
            "          28.8690,   7.6936,  -3.3319],\n",
            "        [ -1.8236,  10.0206,  -1.9930,  -7.3432,   3.9531,   7.5075, -30.6544,\n",
            "          25.5865,   7.6622, -10.4727],\n",
            "        [ -0.2440,   8.7253,  -1.8876,  -7.3895,  -0.4704,   6.6063, -24.7262,\n",
            "          28.6733,  11.3166,  -9.8347],\n",
            "        [  1.4366, -11.4333,  -9.4657,  -0.0509,  -9.9362,  12.0855, -21.7911,\n",
            "          23.3173,   2.1054,  -3.6533],\n",
            "        [  1.6946,   5.8853,  -0.6625,  -9.5928,   6.9865,   8.7635, -33.0774,\n",
            "          22.7343,   1.5500, -12.4345],\n",
            "        [ -2.1277,  -2.6405, -16.0759,   1.0625,  -6.2720,  22.0995, -19.7157,\n",
            "          11.3127,  14.1009,  -4.2420],\n",
            "        [  2.0601,   5.4301,  -5.7813,  -7.9979,   3.3535,   3.7684, -16.0434,\n",
            "          28.0301,  10.9581, -11.2967],\n",
            "        [  4.1829,  10.9289,  -6.5934,  -3.2314,  -3.1395,  18.6427,  -7.4633,\n",
            "          19.9291,   0.9874, -11.8431],\n",
            "        [ -2.9741,  -3.6422, -16.6518,  -8.4910,   3.5761,   8.6099, -20.5290,\n",
            "          23.2917,   7.6723,  -2.3337],\n",
            "        [  2.5798,   3.9776,  -2.6456,   0.3360,  -3.3204,   6.7495, -14.7503,\n",
            "          32.9761,   1.5504, -17.2881],\n",
            "        [  7.5557,   8.2216,   6.2807,  -6.9705,   1.0086,   8.6782, -23.4219,\n",
            "          23.7232,   2.4320, -11.5314],\n",
            "        [  5.0524,   1.6550,  -5.5985, -11.2211,  -7.4844,  19.7433, -30.3899,\n",
            "          26.4024,   9.8278,  -2.0159],\n",
            "        [  0.8202,  12.5055,  -3.4028,  -5.3854,  -0.4275,   9.3058, -23.9518,\n",
            "          27.4062,  12.1331, -15.3012],\n",
            "        [  9.5152,  -1.1745,  -1.7156,  -6.9705,   0.4824,   6.0382, -17.9342,\n",
            "          24.0802,   1.7912,   0.1545],\n",
            "        [  0.2267,  -9.6833,  -9.6937,  -0.2474,   0.6377,  14.5501, -24.0162,\n",
            "          29.2273,  -2.8358,  -1.7296],\n",
            "        [ -7.1889,   6.7828,   4.3528, -13.1807,  -3.5092,  14.9964, -27.1200,\n",
            "          31.0526,  -4.7806,  -5.4857],\n",
            "        [ -0.2772,  -2.3190,  -1.9140, -13.0785,  -5.3188,  14.5369, -12.1159,\n",
            "          22.6476,  13.4284,  -5.8788],\n",
            "        [  3.7616,   6.6519,   1.2325,  -9.8774,  -6.2950,   8.0934, -20.4068,\n",
            "          19.5908,   3.8467, -13.9723],\n",
            "        [ -0.6423,  -0.2606,  -7.8661, -11.3242,   6.3403,   5.5770, -28.5377,\n",
            "          32.8433,   4.5603, -11.4640],\n",
            "        [  3.4792,  -2.5324,   0.0820,  -1.2001,   5.6972,  11.6213, -26.6286,\n",
            "          30.8853,  11.4069,  -8.3547],\n",
            "        [  7.1854,  -2.2521,  -3.4541,  -6.9378, -11.5713,  16.6726, -11.5140,\n",
            "           7.2241,   4.7752, -14.9718],\n",
            "        [ -3.0494,   3.3180,  -5.3995, -10.9636,  -0.9993,  17.2930, -21.5359,\n",
            "          22.3547,   7.5658, -11.4076],\n",
            "        [  1.6822,  11.3028,  -4.4564,  -8.2846,   7.0690,   6.6739, -17.3252,\n",
            "          15.2389,   9.5336,  -5.1895],\n",
            "        [  3.6376,  11.0588,  -3.9845, -13.2507,  -6.8244,  21.1796, -21.9338,\n",
            "          22.3193,  12.2465,  -8.1936],\n",
            "        [  3.3221,  -0.5045,  -3.4577, -11.6954,  -7.6609,  11.7119, -18.1188,\n",
            "          33.1555,  10.6676, -11.2438],\n",
            "        [  2.4554,   3.4277,  -2.3537,  -4.2732,  -4.8591,  10.8084, -21.4968,\n",
            "          17.2851,  -0.6270,  -5.1138],\n",
            "        [  6.8382,   0.6435,   5.0193,  -1.5155,   7.1741,   9.7702, -29.2004,\n",
            "          21.6297,  -2.1734,  -5.9296],\n",
            "        [  2.9338,   0.7327,  -3.1118, -12.0702,   5.4835,  17.7545, -25.0944,\n",
            "          26.0715,  18.0208,  -0.3252],\n",
            "        [  3.2698,   6.0081,  -6.4142,  -3.3227,  -8.5707,   8.8305, -23.7388,\n",
            "          22.2891,   2.2146,  -2.2073],\n",
            "        [ -6.6079,   2.5808,   1.4510, -18.7426,  -1.9754,  11.4065, -21.0153,\n",
            "          19.6525,   9.8918,  -1.7463],\n",
            "        [  3.9493,   3.8428,  -1.0018,  -6.4513,   2.0905,  13.6105, -22.0051,\n",
            "          30.5216,   5.0925, -14.5886],\n",
            "        [  4.2903,  -2.6000,  -7.7441,  -9.7000,  -9.2788,   4.6922, -18.4854,\n",
            "          33.3330,  13.9780,  -3.9887],\n",
            "        [ -5.0405,   6.3990,  -6.6172,   0.9104,   9.1952,  12.9235, -14.3018,\n",
            "          12.3797,  -8.1114,  -2.0215],\n",
            "        [ -0.4693,   6.8119, -16.0182,  -7.7688,   4.8043,  16.1038, -18.3036,\n",
            "          10.6270,   3.8581,  -3.5601],\n",
            "        [ -1.4402,   0.0852,  -3.9349,  -0.8621,   3.6051,  12.1498, -20.2273,\n",
            "          25.9645,  -2.1519,  -7.1453],\n",
            "        [ 14.5264,   2.3034, -13.3782,  -6.9107,  -4.8720,  20.6493, -13.0125,\n",
            "          12.1705,  16.0910, -20.7829],\n",
            "        [  4.2892,   3.9331,  -1.5474, -14.6814,  -2.3127,   9.8086, -20.8315,\n",
            "          25.0139,  12.4816,  -7.7231],\n",
            "        [ -4.7503,  -0.0384,  -3.3015,  -8.8571,   4.8794,   4.3269, -23.9440,\n",
            "          23.5073,   5.7597,  -5.5140],\n",
            "        [  8.8983,   2.9035,   4.1932, -12.3053,  -9.2708,  14.3406, -13.1199,\n",
            "          16.9198,  13.2890,  -5.2710],\n",
            "        [ -1.0023,   5.5652,   1.9227,  -9.9382,   2.8948,  11.3538, -28.4835,\n",
            "          13.8650,  12.5586, -12.8221],\n",
            "        [  6.7153,   7.8939,   0.8378, -16.6078,   0.7810,   8.5542, -34.5670,\n",
            "          26.6387,   4.9010,  -7.4606],\n",
            "        [  0.5378,  11.5984,  -6.5227,  -3.5084,  -8.5377,  10.1152, -13.9653,\n",
            "          18.8890,  14.2094,   4.1947],\n",
            "        [ -2.0868,   9.6356,  -8.0535, -10.0274,   0.6929,  10.2594, -22.3091,\n",
            "          29.6543,   3.5931, -12.6346],\n",
            "        [ -0.2204,  -1.8580,  -5.6189,  -4.5463,  -0.0011,  15.1771, -27.6413,\n",
            "          22.5685, -10.7351,  -0.2512],\n",
            "        [ -4.0090,  -4.2172,  -2.7707,  -4.8710,  -0.5520,  15.7831, -25.1079,\n",
            "          30.3154,   3.2950,  -9.0067],\n",
            "        [ -2.0553,   7.5043,  -7.3191,  -9.0304,   2.7737,  10.7070, -33.1418,\n",
            "          25.4649,   5.5651,  -9.0505],\n",
            "        [ -0.2038,  -3.3994,  -3.8451,  -9.6292,   0.8819,  12.4713, -24.1916,\n",
            "          26.2071,   6.0538,   2.5080],\n",
            "        [  8.6624,  -7.6215,  -4.9201,  -9.9796,   2.9275,   9.7377, -22.8006,\n",
            "          22.1196,  10.3422,  -8.8168],\n",
            "        [ -0.4680,  -7.6733,  -2.2526, -11.7796,   3.0853,   4.1023, -14.7771,\n",
            "          24.0390,   1.2700,   0.8921],\n",
            "        [  8.4030,   3.6440,   3.7523, -12.8279,   4.7892,  15.5280, -28.8809,\n",
            "          34.3436,   0.1346,  -6.1018],\n",
            "        [  8.9142,  -1.9625,  -7.9883, -13.6496,   3.7329,  13.5933, -19.9813,\n",
            "          14.7316,  12.4745,  -5.6094],\n",
            "        [  1.0091,  -0.7987,  -6.8744, -17.0188,   4.7079,   7.4766, -26.3992,\n",
            "          21.6798,   8.7372,  -4.6316],\n",
            "        [ -5.2103,   5.1540,  -0.8483,  -5.7485,  -2.0009,  19.7726, -14.0838,\n",
            "          16.4686,   7.7296,  -3.3151],\n",
            "        [ 11.4086,   4.4657, -14.3020,  -5.5788,   1.1499,   8.1695, -20.0589,\n",
            "          14.4307,  11.4011,  -8.5725],\n",
            "        [  5.0527,  -5.9995, -13.1992,  -9.1508,  -9.5707,  16.8458, -16.3538,\n",
            "          22.5364,   9.2818, -10.3416],\n",
            "        [ -3.4975,   1.1435,  -5.2426,  -8.6877,   2.4822,  12.4367, -22.5095,\n",
            "          37.5254,   0.6789,  -4.1043],\n",
            "        [ -4.1181,   8.1976,  -4.6680,  -4.0672,   6.9272,  13.7215, -20.5984,\n",
            "          24.6520,  10.3440, -10.3211],\n",
            "        [ -7.0298,   4.0552,  -3.2873,  -9.4387,   0.5117,  13.1374, -20.6955,\n",
            "          23.4603,   3.9108,  -7.0265],\n",
            "        [  7.2551,   6.0916,  -5.6877,  -7.4388,  -3.8460,  12.6826, -19.0886,\n",
            "          19.8249,  13.5481,  -5.7130]])\n"
          ],
          "name": "stdout"
        }
      ]
    },
    {
      "metadata": {
        "id": "Prv0ctdoQrNc",
        "colab_type": "text"
      },
      "cell_type": "markdown",
      "source": [
        "Now we have 10 outputs for our network. We want to pass in an image to our network and get out a probability distribution over the classes that tells us the likely class(es) the image belongs to. Something that looks like this:\n",
        "<img src='assets/image_distribution.png' width=500px>\n",
        "\n",
        "Here we see that the probability for each class is roughly the same. This is representing an untrained network, it hasn't seen any data yet so it just returns a uniform distribution with equal probabilities for each class.\n",
        "\n",
        "To calculate this probability distribution, we often use the [**softmax** function](https://en.wikipedia.org/wiki/Softmax_function). Mathematically this looks like\n",
        "\n",
        "$$\n",
        "\\Large \\sigma(x_i) = \\cfrac{e^{x_i}}{\\sum_k^K{e^{x_k}}}\n",
        "$$\n",
        "\n",
        "What this does is squish each input $x_i$ between 0 and 1 and normalizes the values to give you a proper probability distribution where the probabilites sum up to one.\n",
        "\n",
        "> **Exercise:** Implement a function `softmax` that performs the softmax calculation and returns probability distributions for each example in the batch. Note that you'll need to pay attention to the shapes when doing this. If you have a tensor `a` with shape `(64, 10)` and a tensor `b` with shape `(64,)`, doing `a/b` will give you an error because PyTorch will try to do the division across the columns (called broadcasting) but you'll get a size mismatch. The way to think about this is for each of the 64 examples, you only want to divide by one value, the sum in the denominator. So you need `b` to have a shape of `(64, 1)`. This way PyTorch will divide the 10 values in each row of `a` by the one value in each row of `b`. Pay attention to how you take the sum as well. You'll need to define the `dim` keyword in `torch.sum`. Setting `dim=0` takes the sum across the rows while `dim=1` takes the sum across the columns."
      ]
    },
    {
      "metadata": {
        "id": "m6TVhwQPQrNd",
        "colab_type": "code",
        "outputId": "45bda4cd-f3f1-42eb-8361-e502be5c76c0",
        "colab": {
          "base_uri": "https://localhost:8080/",
          "height": 170
        }
      },
      "cell_type": "code",
      "source": [
        "def softmax(x):\n",
        "    return torch.exp(x) / torch.sum(torch.exp(x), dim=1).view(-1, 1)\n",
        "\n",
        "# Here, out should be the output of the network in the previous excercise with shape (64,10)\n",
        "probabilities = softmax(out)\n",
        "\n",
        "# Does it have the right shape? Should be (64, 10)\n",
        "print(probabilities.shape)\n",
        "# Does it sum to 1?\n",
        "print(probabilities.sum(dim=1))"
      ],
      "execution_count": 0,
      "outputs": [
        {
          "output_type": "stream",
          "text": [
            "torch.Size([64, 10])\n",
            "tensor([1.0000, 1.0000, 1.0000, 1.0000, 1.0000, 1.0000, 1.0000, 1.0000, 1.0000,\n",
            "        1.0000, 1.0000, 1.0000, 1.0000, 1.0000, 1.0000, 1.0000, 1.0000, 1.0000,\n",
            "        1.0000, 1.0000, 1.0000, 1.0000, 1.0000, 1.0000, 1.0000, 1.0000, 1.0000,\n",
            "        1.0000, 1.0000, 1.0000, 1.0000, 1.0000, 1.0000, 1.0000, 1.0000, 1.0000,\n",
            "        1.0000, 1.0000, 1.0000, 1.0000, 1.0000, 1.0000, 1.0000, 1.0000, 1.0000,\n",
            "        1.0000, 1.0000, 1.0000, 1.0000, 1.0000, 1.0000, 1.0000, 1.0000, 1.0000,\n",
            "        1.0000, 1.0000, 1.0000, 1.0000, 1.0000, 1.0000, 1.0000, 1.0000, 1.0000,\n",
            "        1.0000])\n"
          ],
          "name": "stdout"
        }
      ]
    },
    {
      "metadata": {
        "id": "aYttl65iQrNj",
        "colab_type": "text"
      },
      "cell_type": "markdown",
      "source": [
        "## Building networks with PyTorch\n",
        "\n",
        "PyTorch provides a module `nn` that makes building networks much simpler. Here I'll show you how to build the same one as above with 784 inputs, 256 hidden units, 10 output units and a softmax output."
      ]
    },
    {
      "metadata": {
        "id": "5Eb4zehxQrNk",
        "colab_type": "code",
        "colab": {}
      },
      "cell_type": "code",
      "source": [
        "from torch import nn"
      ],
      "execution_count": 0,
      "outputs": []
    },
    {
      "metadata": {
        "id": "OFrUECUvQrNq",
        "colab_type": "code",
        "colab": {}
      },
      "cell_type": "code",
      "source": [
        "class Network(nn.Module):\n",
        "    def __init__(self):\n",
        "        super().__init__()\n",
        "        \n",
        "        # Inputs to hidden layer linear transformation\n",
        "        self.hidden = nn.Linear(784, 256)\n",
        "        # Output layer, 10 units - one for each digit\n",
        "        self.output = nn.Linear(256, 10)\n",
        "        \n",
        "        # Define sigmoid activation and softmax output \n",
        "        self.sigmoid = nn.Sigmoid()\n",
        "        self.softmax = nn.Softmax(dim=1)\n",
        "        \n",
        "    def forward(self, x):\n",
        "        # Pass the input tensor through each of our operations\n",
        "        x = self.hidden(x)\n",
        "        x = self.sigmoid(x)\n",
        "        x = self.output(x)\n",
        "        x = self.softmax(x)\n",
        "        \n",
        "        return x"
      ],
      "execution_count": 0,
      "outputs": []
    },
    {
      "metadata": {
        "id": "9Zo1_TRwQrNw",
        "colab_type": "text"
      },
      "cell_type": "markdown",
      "source": [
        "Let's go through this bit by bit.\n",
        "\n",
        "```python\n",
        "class Network(nn.Module):\n",
        "```\n",
        "\n",
        "Here we're inheriting from `nn.Module`. Combined with `super().__init__()` this creates a class that tracks the architecture and provides a lot of useful methods and attributes. It is mandatory to inherit from `nn.Module` when you're creating a class for your network. The name of the class itself can be anything.\n",
        "\n",
        "```python\n",
        "self.hidden = nn.Linear(784, 256)\n",
        "```\n",
        "\n",
        "This line creates a module for a linear transformation, $x\\mathbf{W} + b$, with 784 inputs and 256 outputs and assigns it to `self.hidden`. The module automatically creates the weight and bias tensors which we'll use in the `forward` method. You can access the weight and bias tensors once the network once it's create at `net.hidden.weight` and `net.hidden.bias`.\n",
        "\n",
        "```python\n",
        "self.output = nn.Linear(256, 10)\n",
        "```\n",
        "\n",
        "Similarly, this creates another linear transformation with 256 inputs and 10 outputs.\n",
        "\n",
        "```python\n",
        "self.sigmoid = nn.Sigmoid()\n",
        "self.softmax = nn.Softmax(dim=1)\n",
        "```\n",
        "\n",
        "Here I defined operations for the sigmoid activation and softmax output. Setting `dim=1` in `nn.Softmax(dim=1)` calculates softmax across the columns.\n",
        "\n",
        "```python\n",
        "def forward(self, x):\n",
        "```\n",
        "\n",
        "PyTorch networks created with `nn.Module` must have a `forward` method defined. It takes in a tensor `x` and passes it through the operations you defined in the `__init__` method.\n",
        "\n",
        "```python\n",
        "x = self.hidden(x)\n",
        "x = self.sigmoid(x)\n",
        "x = self.output(x)\n",
        "x = self.softmax(x)\n",
        "```\n",
        "\n",
        "Here the input tensor `x` is passed through each operation a reassigned to `x`. We can see that the input tensor goes through the hidden layer, then a sigmoid function, then the output layer, and finally the softmax function. It doesn't matter what you name the variables here, as long as the inputs and outputs of the operations match the network architecture you want to build. The order in which you define things in the `__init__` method doesn't matter, but you'll need to sequence the operations correctly in the `forward` method.\n",
        "\n",
        "Now we can create a `Network` object."
      ]
    },
    {
      "metadata": {
        "id": "A1NwRoTUQrNx",
        "colab_type": "code",
        "outputId": "911b68d4-7ab6-44d5-909d-7e5589a8279f",
        "colab": {
          "base_uri": "https://localhost:8080/",
          "height": 119
        }
      },
      "cell_type": "code",
      "source": [
        "# Create the network and look at it's text representation\n",
        "model = Network()\n",
        "model"
      ],
      "execution_count": 0,
      "outputs": [
        {
          "output_type": "execute_result",
          "data": {
            "text/plain": [
              "Network(\n",
              "  (hidden): Linear(in_features=784, out_features=256, bias=True)\n",
              "  (output): Linear(in_features=256, out_features=10, bias=True)\n",
              "  (sigmoid): Sigmoid()\n",
              "  (softmax): Softmax()\n",
              ")"
            ]
          },
          "metadata": {
            "tags": []
          },
          "execution_count": 11
        }
      ]
    },
    {
      "metadata": {
        "id": "Zubwuz_DQrN2",
        "colab_type": "text"
      },
      "cell_type": "markdown",
      "source": [
        "You can define the network somewhat more concisely and clearly using the `torch.nn.functional` module. This is the most common way you'll see networks defined as many operations are simple element-wise functions. We normally import this module as `F`, `import torch.nn.functional as F`."
      ]
    },
    {
      "metadata": {
        "id": "FLbTEYwOQrN3",
        "colab_type": "code",
        "colab": {}
      },
      "cell_type": "code",
      "source": [
        "import torch.nn.functional as F\n",
        "\n",
        "class Network(nn.Module):\n",
        "    def __init__(self):\n",
        "        super().__init__()\n",
        "        # Inputs to hidden layer linear transformation\n",
        "        self.hidden = nn.Linear(784, 256)\n",
        "        # Output layer, 10 units - one for each digit\n",
        "        self.output = nn.Linear(256, 10)\n",
        "        \n",
        "    def forward(self, x):\n",
        "        # Hidden layer with sigmoid activation\n",
        "        x = F.sigmoid(self.hidden(x))\n",
        "        # Output layer with softmax activation\n",
        "        x = F.softmax(self.output(x), dim=1)\n",
        "        \n",
        "        return x"
      ],
      "execution_count": 0,
      "outputs": []
    },
    {
      "metadata": {
        "id": "imGcrzciQrN7",
        "colab_type": "text"
      },
      "cell_type": "markdown",
      "source": [
        "### Activation functions\n",
        "\n",
        "So far we've only been looking at the softmax activation, but in general any function can be used as an activation function. The only requirement is that for a network to approximate a non-linear function, the activation functions must be non-linear. Here are a few more examples of common activation functions: Tanh (hyperbolic tangent), and ReLU (rectified linear unit).\n",
        "\n",
        "<img src=\"assets/activation.png\" width=700px>\n",
        "\n",
        "In practice, the ReLU function is used almost exclusively as the activation function for hidden layers."
      ]
    },
    {
      "metadata": {
        "id": "5kVpco47QrN9",
        "colab_type": "text"
      },
      "cell_type": "markdown",
      "source": [
        "### Your Turn to Build a Network\n",
        "\n",
        "<img src=\"https://github.com/udacity/deep-learning-v2-pytorch/raw/master/intro-to-pytorch/assets/mlp_mnist.png\" width=600px>\n",
        "\n",
        "> **Exercise:** Create a network with 784 input units, a hidden layer with 128 units and a ReLU activation, then a hidden layer with 64 units and a ReLU activation, and finally an output layer with a softmax activation as shown above. You can use a ReLU activation with the `nn.ReLU` module or `F.relu` function."
      ]
    },
    {
      "metadata": {
        "scrolled": true,
        "id": "5wwYLJ-YQrN_",
        "colab_type": "code",
        "outputId": "450a0edf-7390-4c6c-d73c-5393300ea3cb",
        "colab": {
          "base_uri": "https://localhost:8080/",
          "height": 102
        }
      },
      "cell_type": "code",
      "source": [
        "## Your solution here\n",
        "import torch.nn.functional as F\n",
        "\n",
        "class Network(nn.Module):\n",
        "    def __init__(self):\n",
        "        super().__init__()\n",
        "        # First hidden layer\n",
        "        self.fc1 = nn.Linear(784, 128)\n",
        "        # Second hidden layer\n",
        "        self.fc2 = nn.Linear(128, 64)\n",
        "        # Output layer, 10 units - one for each digit\n",
        "        self.fc3 = nn.Linear(64, 10)\n",
        "        \n",
        "    def forward(self, x):\n",
        "        # First hidden layer with relu activation\n",
        "        x = F.relu(self.fc1(x))\n",
        "        # Second hidden layer with relu activation\n",
        "        x = F.relu(self.fc2(x))\n",
        "        # Output layer with softmax activation\n",
        "        x = F.softmax(self.fc3(x), dim=1)\n",
        "        \n",
        "        return x\n",
        "\n",
        "model = Network()\n",
        "model"
      ],
      "execution_count": 0,
      "outputs": [
        {
          "output_type": "execute_result",
          "data": {
            "text/plain": [
              "Network(\n",
              "  (fc1): Linear(in_features=784, out_features=128, bias=True)\n",
              "  (fc2): Linear(in_features=128, out_features=64, bias=True)\n",
              "  (fc3): Linear(in_features=64, out_features=10, bias=True)\n",
              ")"
            ]
          },
          "metadata": {
            "tags": []
          },
          "execution_count": 13
        }
      ]
    },
    {
      "metadata": {
        "id": "c9SXiELCQrOG",
        "colab_type": "text"
      },
      "cell_type": "markdown",
      "source": [
        "### Initializing weights and biases\n",
        "\n",
        "The weights and such are automatically initialized for you, but it's possible to customize how they are initialized. The weights and biases are tensors attached to the layer you defined, you can get them with `model.fc1.weight` for instance."
      ]
    },
    {
      "metadata": {
        "id": "EM7ItZuDQrOH",
        "colab_type": "code",
        "outputId": "578cdf87-a4da-40b0-e9ce-c1b70c021e05",
        "colab": {
          "base_uri": "https://localhost:8080/",
          "height": 476
        }
      },
      "cell_type": "code",
      "source": [
        "print(model.fc1.weight)\n",
        "print(model.fc1.bias)"
      ],
      "execution_count": 0,
      "outputs": [
        {
          "output_type": "stream",
          "text": [
            "Parameter containing:\n",
            "tensor([[-0.0338,  0.0007,  0.0303,  ...,  0.0118,  0.0066,  0.0135],\n",
            "        [ 0.0250, -0.0357,  0.0231,  ...,  0.0010,  0.0095, -0.0279],\n",
            "        [ 0.0069,  0.0144,  0.0174,  ..., -0.0118, -0.0088, -0.0004],\n",
            "        ...,\n",
            "        [ 0.0178,  0.0077,  0.0253,  ...,  0.0255, -0.0277, -0.0332],\n",
            "        [-0.0047, -0.0064,  0.0166,  ...,  0.0035,  0.0258,  0.0352],\n",
            "        [-0.0181,  0.0146,  0.0257,  ...,  0.0098, -0.0264, -0.0134]],\n",
            "       requires_grad=True)\n",
            "Parameter containing:\n",
            "tensor([-0.0052,  0.0340,  0.0323,  0.0194,  0.0042,  0.0138, -0.0357, -0.0158,\n",
            "        -0.0199,  0.0221,  0.0074,  0.0262,  0.0120,  0.0128,  0.0078, -0.0194,\n",
            "        -0.0076, -0.0123,  0.0217, -0.0076, -0.0324,  0.0046, -0.0148, -0.0334,\n",
            "        -0.0048, -0.0136, -0.0331, -0.0264,  0.0087, -0.0059,  0.0052,  0.0356,\n",
            "        -0.0353,  0.0195, -0.0315,  0.0286,  0.0023, -0.0046,  0.0068, -0.0048,\n",
            "         0.0122, -0.0268, -0.0353, -0.0123,  0.0256,  0.0251,  0.0119, -0.0253,\n",
            "         0.0011, -0.0040,  0.0269, -0.0241,  0.0056,  0.0007, -0.0206,  0.0217,\n",
            "        -0.0310, -0.0131, -0.0110,  0.0013, -0.0197, -0.0237, -0.0296,  0.0077,\n",
            "         0.0003,  0.0129,  0.0129,  0.0107,  0.0339, -0.0170,  0.0267, -0.0127,\n",
            "         0.0283, -0.0008,  0.0211, -0.0227,  0.0183,  0.0237, -0.0227,  0.0239,\n",
            "        -0.0217,  0.0099,  0.0071, -0.0028, -0.0124, -0.0072, -0.0243,  0.0083,\n",
            "        -0.0297, -0.0257, -0.0287,  0.0099, -0.0118, -0.0185,  0.0142, -0.0199,\n",
            "         0.0180, -0.0231, -0.0345, -0.0068, -0.0048, -0.0121,  0.0221,  0.0300,\n",
            "         0.0177,  0.0178, -0.0179,  0.0139, -0.0235, -0.0155,  0.0061, -0.0121,\n",
            "        -0.0049,  0.0216, -0.0274,  0.0279,  0.0224, -0.0306,  0.0139, -0.0179,\n",
            "         0.0128, -0.0055,  0.0106,  0.0298,  0.0144, -0.0291, -0.0309,  0.0056],\n",
            "       requires_grad=True)\n"
          ],
          "name": "stdout"
        }
      ]
    },
    {
      "metadata": {
        "id": "O1WzFtjlQrOL",
        "colab_type": "text"
      },
      "cell_type": "markdown",
      "source": [
        "For custom initialization, we want to modify these tensors in place. These are actually autograd *Variables*, so we need to get back the actual tensors with `model.fc1.weight.data`. Once we have the tensors, we can fill them with zeros (for biases) or random normal values."
      ]
    },
    {
      "metadata": {
        "id": "0XnE_gooQrOM",
        "colab_type": "code",
        "outputId": "a1e3822e-eb2f-4b4f-fcf1-51474ec75511",
        "colab": {
          "base_uri": "https://localhost:8080/",
          "height": 153
        }
      },
      "cell_type": "code",
      "source": [
        "# Set biases to all zeros\n",
        "model.fc1.bias.data.fill_(0)"
      ],
      "execution_count": 0,
      "outputs": [
        {
          "output_type": "execute_result",
          "data": {
            "text/plain": [
              "tensor([0., 0., 0., 0., 0., 0., 0., 0., 0., 0., 0., 0., 0., 0., 0., 0., 0., 0.,\n",
              "        0., 0., 0., 0., 0., 0., 0., 0., 0., 0., 0., 0., 0., 0., 0., 0., 0., 0.,\n",
              "        0., 0., 0., 0., 0., 0., 0., 0., 0., 0., 0., 0., 0., 0., 0., 0., 0., 0.,\n",
              "        0., 0., 0., 0., 0., 0., 0., 0., 0., 0., 0., 0., 0., 0., 0., 0., 0., 0.,\n",
              "        0., 0., 0., 0., 0., 0., 0., 0., 0., 0., 0., 0., 0., 0., 0., 0., 0., 0.,\n",
              "        0., 0., 0., 0., 0., 0., 0., 0., 0., 0., 0., 0., 0., 0., 0., 0., 0., 0.,\n",
              "        0., 0., 0., 0., 0., 0., 0., 0., 0., 0., 0., 0., 0., 0., 0., 0., 0., 0.,\n",
              "        0., 0.])"
            ]
          },
          "metadata": {
            "tags": []
          },
          "execution_count": 15
        }
      ]
    },
    {
      "metadata": {
        "id": "dNGSF4nzQrOR",
        "colab_type": "code",
        "outputId": "3ad9aa46-b3aa-408c-d741-617118c58414",
        "colab": {
          "base_uri": "https://localhost:8080/",
          "height": 136
        }
      },
      "cell_type": "code",
      "source": [
        "# sample from random normal with standard dev = 0.01\n",
        "model.fc1.weight.data.normal_(std=0.01)"
      ],
      "execution_count": 0,
      "outputs": [
        {
          "output_type": "execute_result",
          "data": {
            "text/plain": [
              "tensor([[ 0.0039, -0.0145, -0.0090,  ..., -0.0170, -0.0040,  0.0030],\n",
              "        [-0.0108, -0.0222,  0.0082,  ..., -0.0053,  0.0096, -0.0067],\n",
              "        [ 0.0015,  0.0126,  0.0045,  ...,  0.0206,  0.0031, -0.0024],\n",
              "        ...,\n",
              "        [-0.0155,  0.0134,  0.0019,  ...,  0.0178, -0.0070, -0.0108],\n",
              "        [-0.0069,  0.0095, -0.0088,  ...,  0.0035,  0.0080,  0.0068],\n",
              "        [ 0.0028, -0.0067,  0.0028,  ..., -0.0037,  0.0008, -0.0062]])"
            ]
          },
          "metadata": {
            "tags": []
          },
          "execution_count": 16
        }
      ]
    },
    {
      "metadata": {
        "id": "gGdkOn_DQrOX",
        "colab_type": "text"
      },
      "cell_type": "markdown",
      "source": [
        "### Forward pass\n",
        "\n",
        "Now that we have a network, let's see what happens when we pass in an image."
      ]
    },
    {
      "metadata": {
        "id": "N45Qu_EuQrOa",
        "colab_type": "code",
        "outputId": "d7be10d2-f0b0-4c59-da4b-0a031889f650",
        "colab": {
          "base_uri": "https://localhost:8080/",
          "height": 244
        }
      },
      "cell_type": "code",
      "source": [
        "# Grab some data \n",
        "dataiter = iter(trainloader)\n",
        "images, labels = dataiter.next()\n",
        "\n",
        "# Resize images into a 1D vector, new shape is (batch size, color channels, image pixels) \n",
        "images.resize_(64, 1, 784)\n",
        "# or images.resize_(images.shape[0], 1, 784) to automatically get batch size\n",
        "\n",
        "# Forward pass through the network\n",
        "img_idx = 0\n",
        "ps = model.forward(images[img_idx,:])\n",
        "\n",
        "img = images[img_idx]\n",
        "helper.view_classify(img.view(1, 28, 28), ps)"
      ],
      "execution_count": 0,
      "outputs": [
        {
          "output_type": "display_data",
          "data": {
            "image/png": "[encoded data removed]",
            "text/plain": [
              "<matplotlib.figure.Figure at 0x7f5c6e398f60>"
            ]
          },
          "metadata": {
            "tags": [],
            "image/png": {
              "width": 424,
              "height": 227
            }
          }
        }
      ]
    },
    {
      "metadata": {
        "id": "a_LBhUToQrOd",
        "colab_type": "text"
      },
      "cell_type": "markdown",
      "source": [
        "As you can see above, our network has basically no idea what this digit is. It's because we haven't trained it yet, all the weights are random!\n",
        "\n",
        "### Using `nn.Sequential`\n",
        "\n",
        "PyTorch provides a convenient way to build networks like this where a tensor is passed sequentially through operations, `nn.Sequential` ([documentation](https://pytorch.org/docs/master/nn.html#torch.nn.Sequential)). Using this to build the equivalent network:"
      ]
    },
    {
      "metadata": {
        "id": "kmfK39F3QrOf",
        "colab_type": "code",
        "outputId": "01c528b0-8934-4ffc-ae9f-eb39006dd7bd",
        "colab": {
          "base_uri": "https://localhost:8080/",
          "height": 380
        }
      },
      "cell_type": "code",
      "source": [
        "# Hyperparameters for our network\n",
        "input_size = 784\n",
        "hidden_sizes = [128, 64]\n",
        "output_size = 10\n",
        "\n",
        "# Build a feed-forward network\n",
        "model = nn.Sequential(nn.Linear(input_size, hidden_sizes[0]),\n",
        "                      nn.ReLU(),\n",
        "                      nn.Linear(hidden_sizes[0], hidden_sizes[1]),\n",
        "                      nn.ReLU(),\n",
        "                      nn.Linear(hidden_sizes[1], output_size),\n",
        "                      nn.Softmax(dim=1))\n",
        "print(model)\n",
        "\n",
        "# Forward pass through the network and display output\n",
        "images, labels = next(iter(trainloader))\n",
        "images.resize_(images.shape[0], 1, 784)\n",
        "ps = model.forward(images[0,:])\n",
        "helper.view_classify(images[0].view(1, 28, 28), ps)"
      ],
      "execution_count": 0,
      "outputs": [
        {
          "output_type": "stream",
          "text": [
            "Sequential(\n",
            "  (0): Linear(in_features=784, out_features=128, bias=True)\n",
            "  (1): ReLU()\n",
            "  (2): Linear(in_features=128, out_features=64, bias=True)\n",
            "  (3): ReLU()\n",
            "  (4): Linear(in_features=64, out_features=10, bias=True)\n",
            "  (5): Softmax()\n",
            ")\n"
          ],
          "name": "stdout"
        },
        {
          "output_type": "display_data",
          "data": {
            "image/png": "[encoded data removed]",
            "text/plain": [
              "<matplotlib.figure.Figure at 0x7f5c6b2e0198>"
            ]
          },
          "metadata": {
            "tags": [],
            "image/png": {
              "width": 424,
              "height": 227
            }
          }
        }
      ]
    },
    {
      "metadata": {
        "id": "22rpDYelQrOj",
        "colab_type": "text"
      },
      "cell_type": "markdown",
      "source": [
        "Here our model is the same as before: 784 input units, a hidden layer with 128 units, ReLU activation, 64 unit hidden layer, another ReLU, then the output layer with 10 units, and the softmax output.\n",
        "\n",
        "The operations are availble by passing in the appropriate index. For example, if you want to get first Linear operation and look at the weights, you'd use `model[0]`."
      ]
    },
    {
      "metadata": {
        "id": "q_CT1nheQrOl",
        "colab_type": "code",
        "outputId": "1a18d6ef-71b2-4c94-cc1c-941ae56c13fa",
        "colab": {
          "base_uri": "https://localhost:8080/",
          "height": 187
        }
      },
      "cell_type": "code",
      "source": [
        "print(model[0])\n",
        "model[0].weight"
      ],
      "execution_count": 0,
      "outputs": [
        {
          "output_type": "stream",
          "text": [
            "Linear(in_features=784, out_features=128, bias=True)\n"
          ],
          "name": "stdout"
        },
        {
          "output_type": "execute_result",
          "data": {
            "text/plain": [
              "Parameter containing:\n",
              "tensor([[ 0.0292,  0.0206,  0.0076,  ..., -0.0250, -0.0024,  0.0088],\n",
              "        [ 0.0241, -0.0133, -0.0261,  ..., -0.0189,  0.0281,  0.0017],\n",
              "        [ 0.0176, -0.0214,  0.0296,  ...,  0.0271, -0.0000, -0.0147],\n",
              "        ...,\n",
              "        [-0.0139, -0.0315,  0.0152,  ...,  0.0065, -0.0060,  0.0048],\n",
              "        [ 0.0101, -0.0026,  0.0293,  ..., -0.0265,  0.0155, -0.0241],\n",
              "        [ 0.0087,  0.0080,  0.0269,  ...,  0.0037,  0.0013, -0.0038]],\n",
              "       requires_grad=True)"
            ]
          },
          "metadata": {
            "tags": []
          },
          "execution_count": 19
        }
      ]
    },
    {
      "metadata": {
        "id": "RYHjNZoaQrOo",
        "colab_type": "text"
      },
      "cell_type": "markdown",
      "source": [
        "You can also pass in an `OrderedDict` to name the individual layers and operations, instead of using incremental integers. Note that dictionary keys must be unique, so _each operation must have a different name_."
      ]
    },
    {
      "metadata": {
        "id": "_H44ZF6FQrOq",
        "colab_type": "code",
        "outputId": "bb24ed5d-2366-4bed-ff63-592709f2e622",
        "colab": {
          "base_uri": "https://localhost:8080/",
          "height": 153
        }
      },
      "cell_type": "code",
      "source": [
        "from collections import OrderedDict\n",
        "model = nn.Sequential(OrderedDict([\n",
        "                      ('fc1', nn.Linear(input_size, hidden_sizes[0])),\n",
        "                      ('relu1', nn.ReLU()),\n",
        "                      ('fc2', nn.Linear(hidden_sizes[0], hidden_sizes[1])),\n",
        "                      ('relu2', nn.ReLU()),\n",
        "                      ('output', nn.Linear(hidden_sizes[1], output_size)),\n",
        "                      ('softmax', nn.Softmax(dim=1))]))\n",
        "model"
      ],
      "execution_count": 0,
      "outputs": [
        {
          "output_type": "execute_result",
          "data": {
            "text/plain": [
              "Sequential(\n",
              "  (fc1): Linear(in_features=784, out_features=128, bias=True)\n",
              "  (relu1): ReLU()\n",
              "  (fc2): Linear(in_features=128, out_features=64, bias=True)\n",
              "  (relu2): ReLU()\n",
              "  (output): Linear(in_features=64, out_features=10, bias=True)\n",
              "  (softmax): Softmax()\n",
              ")"
            ]
          },
          "metadata": {
            "tags": []
          },
          "execution_count": 20
        }
      ]
    },
    {
      "metadata": {
        "id": "3vDOW09xQrOu",
        "colab_type": "text"
      },
      "cell_type": "markdown",
      "source": [
        "Now you can access layers either by integer or the name"
      ]
    },
    {
      "metadata": {
        "id": "8lISr0CHQrOw",
        "colab_type": "code",
        "outputId": "d8f38f1a-5e2d-4c1a-b9fb-6775a11afa79",
        "colab": {
          "base_uri": "https://localhost:8080/",
          "height": 51
        }
      },
      "cell_type": "code",
      "source": [
        "print(model[0])\n",
        "print(model.fc1)"
      ],
      "execution_count": 0,
      "outputs": [
        {
          "output_type": "stream",
          "text": [
            "Linear(in_features=784, out_features=128, bias=True)\n",
            "Linear(in_features=784, out_features=128, bias=True)\n"
          ],
          "name": "stdout"
        }
      ]
    },
    {
      "metadata": {
        "id": "fqgd4ObhQrOz",
        "colab_type": "text"
      },
      "cell_type": "markdown",
      "source": [
        "In the next notebook, we'll see how we can train a neural network to accuractly predict the numbers appearing in the MNIST images."
      ]
    }
  ]
}