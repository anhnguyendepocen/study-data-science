{
  "nbformat": 4,
  "nbformat_minor": 0,
  "metadata": {
    "colab": {
      "name": "ann.ipynb",
      "version": "0.3.2",
      "provenance": [],
      "collapsed_sections": [],
      "include_colab_link": true
    },
    "kernelspec": {
      "name": "python3",
      "display_name": "Python 3"
    }
  },
  "cells": [
    {
      "cell_type": "markdown",
      "metadata": {
        "id": "view-in-github",
        "colab_type": "text"
      },
      "source": [
        "<a href=\"https://colab.research.google.com/github/souzadriano/study-data-science/blob/master/Deep%20Leaning/ann.ipynb\" target=\"_parent\"><img src=\"https://colab.research.google.com/assets/colab-badge.svg\" alt=\"Open In Colab\"/></a>"
      ]
    },
    {
      "metadata": {
        "id": "MeZMXkLjLlcF",
        "colab_type": "code",
        "colab": {},
        "cellView": "both"
      },
      "cell_type": "code",
      "source": [
        "# Importing the libraries\n",
        "import numpy as np\n",
        "import matplotlib.pyplot as plt\n",
        "import pandas as pd"
      ],
      "execution_count": 0,
      "outputs": []
    },
    {
      "metadata": {
        "id": "yw_9cRWzLoEx",
        "colab_type": "code",
        "colab": {}
      },
      "cell_type": "code",
      "source": [
        "# Importing the dataset\n",
        "dataset = pd.read_csv('Churn_Modelling.csv')\n",
        "X = dataset.iloc[:, 3:13].values\n",
        "y = dataset.iloc[:, 13].values"
      ],
      "execution_count": 0,
      "outputs": []
    },
    {
      "metadata": {
        "id": "-Z-dMKrVLqEi",
        "colab_type": "code",
        "colab": {}
      },
      "cell_type": "code",
      "source": [
        "# Encoding categorical data\n",
        "from sklearn.preprocessing import LabelEncoder, OneHotEncoder\n",
        "labelencoder_X_1 = LabelEncoder()\n",
        "X[:, 1] = labelencoder_X_1.fit_transform(X[:, 1])\n",
        "labelencoder_X_2 = LabelEncoder()\n",
        "X[:, 2] = labelencoder_X_2.fit_transform(X[:, 2])\n",
        "onehotencoder = OneHotEncoder(categorical_features = [1])\n",
        "X = onehotencoder.fit_transform(X).toarray()\n",
        "X = X[:,1:]"
      ],
      "execution_count": 0,
      "outputs": []
    },
    {
      "metadata": {
        "id": "yWKevr9JMMd_",
        "colab_type": "code",
        "colab": {}
      },
      "cell_type": "code",
      "source": [
        "# Splitting the dataset into the Training set and Test set\n",
        "from sklearn.model_selection import train_test_split\n",
        "X_train, X_test, y_train, y_test = train_test_split(X, y, test_size = 0.2, random_state = 0)"
      ],
      "execution_count": 0,
      "outputs": []
    },
    {
      "metadata": {
        "id": "scpq5uCuMSmg",
        "colab_type": "code",
        "colab": {}
      },
      "cell_type": "code",
      "source": [
        "# Feature Scaling\n",
        "from sklearn.preprocessing import StandardScaler\n",
        "sc = StandardScaler()\n",
        "X_train = sc.fit_transform(X_train)\n",
        "X_test = sc.transform(X_test)"
      ],
      "execution_count": 0,
      "outputs": []
    },
    {
      "metadata": {
        "id": "3sek5B3iRuyq",
        "colab_type": "code",
        "colab": {}
      },
      "cell_type": "code",
      "source": [
        "# Part 2 - Now let's make the ANN\n",
        "\n",
        "#Importing the keras libraries and packages\n",
        "import keras\n",
        "from keras.models import Sequential\n",
        "from keras.layers import Dense"
      ],
      "execution_count": 0,
      "outputs": []
    },
    {
      "metadata": {
        "id": "Q7ch2-1HSSbA",
        "colab_type": "code",
        "colab": {}
      },
      "cell_type": "code",
      "source": [
        "#Initialize the ANN\n",
        "classifier = Sequential()"
      ],
      "execution_count": 0,
      "outputs": []
    },
    {
      "metadata": {
        "id": "l4IK9_uWT-rB",
        "colab_type": "code",
        "colab": {}
      },
      "cell_type": "code",
      "source": [
        "#Adding the input and the first hidden layer\n",
        "#classifier.add(Dense(output_dim=6, init='uniform', activation='relu', input_dim=11))\n",
        "classifier.add(Dense(units=6, kernel_initializer='uniform', activation='relu', input_dim=11))\n"
      ],
      "execution_count": 0,
      "outputs": []
    },
    {
      "metadata": {
        "id": "2RX2YYYrY1GY",
        "colab_type": "code",
        "colab": {}
      },
      "cell_type": "code",
      "source": [
        "#Adding the second hidden layer\n",
        "classifier.add(Dense(units=6, kernel_initializer='uniform', activation='relu'))"
      ],
      "execution_count": 0,
      "outputs": []
    },
    {
      "metadata": {
        "id": "pk3dr_LwZ-T4",
        "colab_type": "code",
        "colab": {}
      },
      "cell_type": "code",
      "source": [
        "#Adding the output layer\n",
        "classifier.add(Dense(units=1, kernel_initializer='uniform', activation='sigmoid'))"
      ],
      "execution_count": 0,
      "outputs": []
    },
    {
      "metadata": {
        "id": "Q4gbdlPgbk2y",
        "colab_type": "code",
        "colab": {}
      },
      "cell_type": "code",
      "source": [
        "#Compile the ANN\n",
        "classifier.compile(optimizer='adam', loss='binary_crossentropy', metrics=['accuracy'])"
      ],
      "execution_count": 0,
      "outputs": []
    },
    {
      "metadata": {
        "id": "YQJVrOPzdsZL",
        "colab_type": "code",
        "colab": {
          "base_uri": "https://localhost:8080/",
          "height": 3434
        },
        "outputId": "c9a16414-6e0f-4038-cff0-bfad60117d4c"
      },
      "cell_type": "code",
      "source": [
        "#Fitting the ANN to the training set\n",
        "classifier.fit(X_train, y_train, batch_size=10, epochs=100)"
      ],
      "execution_count": 185,
      "outputs": [
        {
          "output_type": "stream",
          "text": [
            "Epoch 1/100\n",
            "8000/8000 [==============================] - 2s 215us/step - loss: 0.4811 - acc: 0.7957\n",
            "Epoch 2/100\n",
            "8000/8000 [==============================] - 1s 153us/step - loss: 0.4280 - acc: 0.7960\n",
            "Epoch 3/100\n",
            "8000/8000 [==============================] - 1s 143us/step - loss: 0.4223 - acc: 0.7964\n",
            "Epoch 4/100\n",
            "8000/8000 [==============================] - 1s 142us/step - loss: 0.4190 - acc: 0.8216\n",
            "Epoch 5/100\n",
            "8000/8000 [==============================] - 1s 139us/step - loss: 0.4163 - acc: 0.8266\n",
            "Epoch 6/100\n",
            "8000/8000 [==============================] - 1s 141us/step - loss: 0.4148 - acc: 0.8299\n",
            "Epoch 7/100\n",
            "8000/8000 [==============================] - 1s 139us/step - loss: 0.4131 - acc: 0.8315\n",
            "Epoch 8/100\n",
            "8000/8000 [==============================] - 1s 139us/step - loss: 0.4117 - acc: 0.8326\n",
            "Epoch 9/100\n",
            "8000/8000 [==============================] - 1s 143us/step - loss: 0.4110 - acc: 0.8322\n",
            "Epoch 10/100\n",
            "8000/8000 [==============================] - 1s 142us/step - loss: 0.4093 - acc: 0.8336\n",
            "Epoch 11/100\n",
            "8000/8000 [==============================] - 1s 140us/step - loss: 0.4092 - acc: 0.8335\n",
            "Epoch 12/100\n",
            "8000/8000 [==============================] - 1s 138us/step - loss: 0.4079 - acc: 0.8326\n",
            "Epoch 13/100\n",
            "8000/8000 [==============================] - 1s 140us/step - loss: 0.4079 - acc: 0.8336\n",
            "Epoch 14/100\n",
            "8000/8000 [==============================] - 1s 139us/step - loss: 0.4070 - acc: 0.8344\n",
            "Epoch 15/100\n",
            "8000/8000 [==============================] - 1s 137us/step - loss: 0.4063 - acc: 0.8349\n",
            "Epoch 16/100\n",
            "8000/8000 [==============================] - 1s 144us/step - loss: 0.4056 - acc: 0.8355\n",
            "Epoch 17/100\n",
            "8000/8000 [==============================] - 1s 139us/step - loss: 0.4054 - acc: 0.8345\n",
            "Epoch 18/100\n",
            "8000/8000 [==============================] - 1s 139us/step - loss: 0.4053 - acc: 0.8334\n",
            "Epoch 19/100\n",
            "8000/8000 [==============================] - 1s 138us/step - loss: 0.4049 - acc: 0.8347\n",
            "Epoch 20/100\n",
            "8000/8000 [==============================] - 1s 139us/step - loss: 0.4044 - acc: 0.8345\n",
            "Epoch 21/100\n",
            "8000/8000 [==============================] - 1s 143us/step - loss: 0.4040 - acc: 0.8360\n",
            "Epoch 22/100\n",
            "8000/8000 [==============================] - 1s 141us/step - loss: 0.4038 - acc: 0.8360\n",
            "Epoch 23/100\n",
            "8000/8000 [==============================] - 1s 138us/step - loss: 0.4034 - acc: 0.8352\n",
            "Epoch 24/100\n",
            "8000/8000 [==============================] - 1s 139us/step - loss: 0.4032 - acc: 0.8339\n",
            "Epoch 25/100\n",
            "8000/8000 [==============================] - 1s 139us/step - loss: 0.4029 - acc: 0.8351\n",
            "Epoch 26/100\n",
            "8000/8000 [==============================] - 1s 138us/step - loss: 0.4033 - acc: 0.8326\n",
            "Epoch 27/100\n",
            "8000/8000 [==============================] - 1s 136us/step - loss: 0.4025 - acc: 0.8344\n",
            "Epoch 28/100\n",
            "8000/8000 [==============================] - 1s 137us/step - loss: 0.4028 - acc: 0.8344\n",
            "Epoch 29/100\n",
            "8000/8000 [==============================] - 1s 139us/step - loss: 0.4025 - acc: 0.8354\n",
            "Epoch 30/100\n",
            "8000/8000 [==============================] - 1s 139us/step - loss: 0.4025 - acc: 0.8341\n",
            "Epoch 31/100\n",
            "8000/8000 [==============================] - 1s 141us/step - loss: 0.4025 - acc: 0.8341\n",
            "Epoch 32/100\n",
            "8000/8000 [==============================] - 1s 143us/step - loss: 0.4021 - acc: 0.8355\n",
            "Epoch 33/100\n",
            "8000/8000 [==============================] - 1s 140us/step - loss: 0.4018 - acc: 0.8351\n",
            "Epoch 34/100\n",
            "8000/8000 [==============================] - 1s 141us/step - loss: 0.4021 - acc: 0.8360\n",
            "Epoch 35/100\n",
            "8000/8000 [==============================] - 1s 138us/step - loss: 0.4015 - acc: 0.8342\n",
            "Epoch 36/100\n",
            "8000/8000 [==============================] - 1s 140us/step - loss: 0.4019 - acc: 0.8359\n",
            "Epoch 37/100\n",
            "8000/8000 [==============================] - 1s 138us/step - loss: 0.4017 - acc: 0.8347\n",
            "Epoch 38/100\n",
            "8000/8000 [==============================] - 1s 142us/step - loss: 0.4010 - acc: 0.8350\n",
            "Epoch 39/100\n",
            "8000/8000 [==============================] - 1s 142us/step - loss: 0.4009 - acc: 0.8354\n",
            "Epoch 40/100\n",
            "8000/8000 [==============================] - 1s 142us/step - loss: 0.4015 - acc: 0.8351\n",
            "Epoch 41/100\n",
            "8000/8000 [==============================] - 1s 136us/step - loss: 0.4014 - acc: 0.8342\n",
            "Epoch 42/100\n",
            "8000/8000 [==============================] - 1s 136us/step - loss: 0.4017 - acc: 0.8355\n",
            "Epoch 43/100\n",
            "8000/8000 [==============================] - 1s 137us/step - loss: 0.4015 - acc: 0.8357\n",
            "Epoch 44/100\n",
            "8000/8000 [==============================] - 1s 139us/step - loss: 0.4011 - acc: 0.8337\n",
            "Epoch 45/100\n",
            "8000/8000 [==============================] - 1s 138us/step - loss: 0.4010 - acc: 0.8354\n",
            "Epoch 46/100\n",
            "8000/8000 [==============================] - 1s 139us/step - loss: 0.4014 - acc: 0.8352\n",
            "Epoch 47/100\n",
            "8000/8000 [==============================] - 1s 139us/step - loss: 0.4015 - acc: 0.8346\n",
            "Epoch 48/100\n",
            "8000/8000 [==============================] - 1s 142us/step - loss: 0.4010 - acc: 0.8355\n",
            "Epoch 49/100\n",
            "8000/8000 [==============================] - 1s 136us/step - loss: 0.4011 - acc: 0.8344\n",
            "Epoch 50/100\n",
            "8000/8000 [==============================] - 1s 139us/step - loss: 0.4010 - acc: 0.8350\n",
            "Epoch 51/100\n",
            "8000/8000 [==============================] - 1s 138us/step - loss: 0.4009 - acc: 0.8361\n",
            "Epoch 52/100\n",
            "8000/8000 [==============================] - 1s 138us/step - loss: 0.4002 - acc: 0.8335\n",
            "Epoch 53/100\n",
            "8000/8000 [==============================] - 1s 141us/step - loss: 0.4009 - acc: 0.8347\n",
            "Epoch 54/100\n",
            "8000/8000 [==============================] - 1s 135us/step - loss: 0.4006 - acc: 0.8349\n",
            "Epoch 55/100\n",
            "8000/8000 [==============================] - 1s 136us/step - loss: 0.4002 - acc: 0.8339\n",
            "Epoch 56/100\n",
            "8000/8000 [==============================] - 1s 136us/step - loss: 0.4006 - acc: 0.8367\n",
            "Epoch 57/100\n",
            "8000/8000 [==============================] - 1s 139us/step - loss: 0.4008 - acc: 0.8345\n",
            "Epoch 58/100\n",
            "8000/8000 [==============================] - 1s 141us/step - loss: 0.4003 - acc: 0.8339\n",
            "Epoch 59/100\n",
            "8000/8000 [==============================] - 1s 138us/step - loss: 0.4005 - acc: 0.8361\n",
            "Epoch 60/100\n",
            "8000/8000 [==============================] - 1s 139us/step - loss: 0.4003 - acc: 0.8359\n",
            "Epoch 61/100\n",
            "8000/8000 [==============================] - 1s 141us/step - loss: 0.4004 - acc: 0.8370\n",
            "Epoch 62/100\n",
            "8000/8000 [==============================] - 1s 139us/step - loss: 0.4004 - acc: 0.8349\n",
            "Epoch 63/100\n",
            "8000/8000 [==============================] - 1s 138us/step - loss: 0.4004 - acc: 0.8361\n",
            "Epoch 64/100\n",
            "8000/8000 [==============================] - 1s 137us/step - loss: 0.4004 - acc: 0.8369\n",
            "Epoch 65/100\n",
            "8000/8000 [==============================] - 1s 136us/step - loss: 0.4004 - acc: 0.8349\n",
            "Epoch 66/100\n",
            "8000/8000 [==============================] - 1s 137us/step - loss: 0.4004 - acc: 0.8356\n",
            "Epoch 67/100\n",
            "8000/8000 [==============================] - 1s 142us/step - loss: 0.4003 - acc: 0.8335\n",
            "Epoch 68/100\n",
            "8000/8000 [==============================] - 1s 138us/step - loss: 0.4004 - acc: 0.8337\n",
            "Epoch 69/100\n",
            "8000/8000 [==============================] - 1s 138us/step - loss: 0.3999 - acc: 0.8349\n",
            "Epoch 70/100\n",
            "8000/8000 [==============================] - 1s 139us/step - loss: 0.4004 - acc: 0.8360\n",
            "Epoch 71/100\n",
            "8000/8000 [==============================] - 1s 138us/step - loss: 0.3998 - acc: 0.8354\n",
            "Epoch 72/100\n",
            "8000/8000 [==============================] - 1s 137us/step - loss: 0.3999 - acc: 0.8351\n",
            "Epoch 73/100\n",
            "8000/8000 [==============================] - 1s 138us/step - loss: 0.4004 - acc: 0.8344\n",
            "Epoch 74/100\n",
            "8000/8000 [==============================] - 1s 139us/step - loss: 0.4001 - acc: 0.8357\n",
            "Epoch 75/100\n",
            "8000/8000 [==============================] - 1s 140us/step - loss: 0.4004 - acc: 0.8357\n",
            "Epoch 76/100\n",
            "8000/8000 [==============================] - 1s 142us/step - loss: 0.3997 - acc: 0.8356\n",
            "Epoch 77/100\n",
            "8000/8000 [==============================] - 1s 141us/step - loss: 0.3997 - acc: 0.8354\n",
            "Epoch 78/100\n",
            "8000/8000 [==============================] - 1s 139us/step - loss: 0.4001 - acc: 0.8356\n",
            "Epoch 79/100\n",
            "8000/8000 [==============================] - 1s 138us/step - loss: 0.4004 - acc: 0.8366\n",
            "Epoch 80/100\n",
            "8000/8000 [==============================] - 1s 138us/step - loss: 0.3996 - acc: 0.8355\n",
            "Epoch 81/100\n",
            "8000/8000 [==============================] - 1s 139us/step - loss: 0.4000 - acc: 0.8342\n",
            "Epoch 82/100\n",
            "8000/8000 [==============================] - 1s 138us/step - loss: 0.3999 - acc: 0.8349\n",
            "Epoch 83/100\n",
            "8000/8000 [==============================] - 1s 139us/step - loss: 0.3998 - acc: 0.8341\n",
            "Epoch 84/100\n",
            "8000/8000 [==============================] - 1s 138us/step - loss: 0.4000 - acc: 0.8352\n",
            "Epoch 85/100\n",
            "8000/8000 [==============================] - 1s 139us/step - loss: 0.4001 - acc: 0.8344\n",
            "Epoch 86/100\n",
            "8000/8000 [==============================] - 1s 140us/step - loss: 0.3997 - acc: 0.8352\n",
            "Epoch 87/100\n",
            "8000/8000 [==============================] - 1s 140us/step - loss: 0.3990 - acc: 0.8356\n",
            "Epoch 88/100\n",
            "8000/8000 [==============================] - 1s 137us/step - loss: 0.3998 - acc: 0.8349\n",
            "Epoch 89/100\n",
            "8000/8000 [==============================] - 1s 136us/step - loss: 0.3996 - acc: 0.8336\n",
            "Epoch 90/100\n",
            "8000/8000 [==============================] - 1s 137us/step - loss: 0.3998 - acc: 0.8367\n",
            "Epoch 91/100\n",
            "8000/8000 [==============================] - 1s 141us/step - loss: 0.3997 - acc: 0.8365\n",
            "Epoch 92/100\n",
            "8000/8000 [==============================] - 1s 139us/step - loss: 0.3998 - acc: 0.8365\n",
            "Epoch 93/100\n",
            "8000/8000 [==============================] - 1s 136us/step - loss: 0.3994 - acc: 0.8351\n",
            "Epoch 94/100\n",
            "8000/8000 [==============================] - 1s 141us/step - loss: 0.4000 - acc: 0.8349\n",
            "Epoch 95/100\n",
            "8000/8000 [==============================] - 1s 137us/step - loss: 0.4002 - acc: 0.8356\n",
            "Epoch 96/100\n",
            "8000/8000 [==============================] - 1s 137us/step - loss: 0.3999 - acc: 0.8354\n",
            "Epoch 97/100\n",
            "8000/8000 [==============================] - 1s 138us/step - loss: 0.3996 - acc: 0.8345\n",
            "Epoch 98/100\n",
            "8000/8000 [==============================] - 1s 138us/step - loss: 0.3997 - acc: 0.8352\n",
            "Epoch 99/100\n",
            "8000/8000 [==============================] - 1s 139us/step - loss: 0.3994 - acc: 0.8346\n",
            "Epoch 100/100\n",
            "8000/8000 [==============================] - 1s 138us/step - loss: 0.3997 - acc: 0.8351\n"
          ],
          "name": "stdout"
        },
        {
          "output_type": "execute_result",
          "data": {
            "text/plain": [
              "<keras.callbacks.History at 0x7f8ed0990dd8>"
            ]
          },
          "metadata": {
            "tags": []
          },
          "execution_count": 185
        }
      ]
    },
    {
      "metadata": {
        "id": "OfN82rr3MTj2",
        "colab_type": "code",
        "colab": {}
      },
      "cell_type": "code",
      "source": [
        "# Fitting classifier to the Training set\n",
        "# Create your classifier here\n",
        "\n",
        "# Predicting the Test set results\n",
        "y_pred = classifier.predict(X_test)\n",
        "y_pred = (y_pred > 0.5)"
      ],
      "execution_count": 0,
      "outputs": []
    },
    {
      "metadata": {
        "id": "mBAsPwTtMWqr",
        "colab_type": "code",
        "colab": {
          "base_uri": "https://localhost:8080/",
          "height": 51
        },
        "outputId": "eb9eed33-41d5-4298-f99f-ccbe64e4c34c"
      },
      "cell_type": "code",
      "source": [
        "# Making the Confusion Matrix\n",
        "from sklearn.metrics import confusion_matrix\n",
        "cm = confusion_matrix(y_test, y_pred)\n",
        "print(cm)"
      ],
      "execution_count": 187,
      "outputs": [
        {
          "output_type": "stream",
          "text": [
            "[[1540   55]\n",
            " [ 259  146]]\n"
          ],
          "name": "stdout"
        }
      ]
    },
    {
      "metadata": {
        "id": "PxO_vTanhPeb",
        "colab_type": "code",
        "colab": {
          "base_uri": "https://localhost:8080/",
          "height": 34
        },
        "outputId": "bef5710b-c25e-4520-aa08-a6641b3b0a32"
      },
      "cell_type": "code",
      "source": [
        "#accuracy\n",
        "print((cm[0, 0] + cm[1, 1]) / y_test.size)"
      ],
      "execution_count": 188,
      "outputs": [
        {
          "output_type": "stream",
          "text": [
            "0.843\n"
          ],
          "name": "stdout"
        }
      ]
    },
    {
      "metadata": {
        "id": "QK6YetXoi10D",
        "colab_type": "code",
        "colab": {
          "base_uri": "https://localhost:8080/",
          "height": 51
        },
        "outputId": "3f5344d5-6b57-40f1-d8fa-3d94b8dd3a59"
      },
      "cell_type": "code",
      "source": [
        "#Predict a new customer\n",
        "X_prediction = np.array([[0.0,0, 600,1,40,3,60000,2,1,1,50000]])\n",
        "y_prediction = classifier.predict(sc.transform(X_prediction))\n",
        "print(y_prediction)\n",
        "print(y_prediction > 0.5)"
      ],
      "execution_count": 189,
      "outputs": [
        {
          "output_type": "stream",
          "text": [
            "[[0.08160184]]\n",
            "[[False]]\n"
          ],
          "name": "stdout"
        }
      ]
    }
  ]
}